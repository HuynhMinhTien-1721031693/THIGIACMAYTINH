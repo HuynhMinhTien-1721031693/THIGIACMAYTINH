{
 "cells": [
  {
   "cell_type": "code",
   "execution_count": null,
   "id": "e3590433-86dc-4eb7-b6e4-3fe32a7ca76b",
   "metadata": {},
   "outputs": [],
   "source": [
    "import cv2\n",
    "import time"
   ]
  },
  {
   "cell_type": "code",
   "execution_count": null,
   "id": "77a2ed76-8831-4d9b-ad0c-ec6bcf4bde39",
   "metadata": {},
   "outputs": [],
   "source": [
    "#Đọc video từ file\n",
    "my_video = cv2.VideoCapture('E:/HuynhMinhTien/THIGIACMAYTINH/VIDEO/conmao.mp4')"
   ]
  },
  {
   "cell_type": "code",
   "execution_count": null,
   "id": "0657486a-cf70-4d3f-ace7-69ec82addf76",
   "metadata": {},
   "outputs": [],
   "source": [
    "#Tạo cửa sổ để hiển thị\n",
    "cv2.namedWindow('Video Player', cv2.WINDOW_NORMAL)"
   ]
  },
  {
   "cell_type": "code",
   "execution_count": null,
   "id": "89a38425-02cc-424d-85a4-1c39a7cbfa04",
   "metadata": {},
   "outputs": [],
   "source": [
    "#Ghi text trên hình ảnh\n",
    "font = cv2.FONT_HERSHEY_SIMPLEX\n",
    "font_color = (255, 255, 255)\n",
    "font_scale = 2\n",
    "font_thicknes = 2"
   ]
  },
  {
   "cell_type": "code",
   "execution_count": 5,
   "id": "d03b5007-83b4-4e73-9c69-b5882b9e395c",
   "metadata": {},
   "outputs": [
    {
     "ename": "IndentationError",
     "evalue": "unexpected indent (1346122787.py, line 16)",
     "output_type": "error",
     "traceback": [
      "\u001b[1;36m  Cell \u001b[1;32mIn[5], line 16\u001b[1;36m\u001b[0m\n\u001b[1;33m    Hiển thị\u001b[0m\n\u001b[1;37m    ^\u001b[0m\n\u001b[1;31mIndentationError\u001b[0m\u001b[1;31m:\u001b[0m unexpected indent\n"
     ]
    }
   ],
   "source": [
    "#Hiển thị từng khung ảnh\n",
    "while True:\n",
    "    #Thời gian trước khi đọc\n",
    "    start_time = time.time()\n",
    "    # Đọc 1 frame\n",
    "    ret, frame = my_video.read()\n",
    "    #Thoát khi không thể đọc được frame\n",
    "    if not ret:\n",
    "        break\n",
    "    #Thời gian trước khi đọc\n",
    "    end_time = time.time()    \n",
    "    #Tình fps:\n",
    "    fps = 1/(end_time-start_time)\n",
    "    #Ghi số lượng fps\n",
    "    cv2.putText(frame, f'FPS: {fps:.2f}', (100, 100), font, font_scale, font_color , font_thicknes)\n",
    "    # Hiển thị\n",
    "    cv2.imshow('Video Player', frame)\n",
    "    if(cv2.waitKey(10)==ord('q')):\n",
    "        break\n",
    "\n",
    "#Hủy bỏ player\n",
    "my_video.release()\n",
    "cv2.destroyAllWindows()"
   ]
  },
  {
   "cell_type": "code",
   "execution_count": null,
   "id": "b8c2a1b0-749b-4c61-8ff3-0e54bbb3f401",
   "metadata": {},
   "outputs": [],
   "source": []
  }
 ],
 "metadata": {
  "kernelspec": {
   "display_name": "Python 3 (ipykernel)",
   "language": "python",
   "name": "python3"
  },
  "language_info": {
   "codemirror_mode": {
    "name": "ipython",
    "version": 3
   },
   "file_extension": ".py",
   "mimetype": "text/x-python",
   "name": "python",
   "nbconvert_exporter": "python",
   "pygments_lexer": "ipython3",
   "version": "3.12.4"
  }
 },
 "nbformat": 4,
 "nbformat_minor": 5
}
