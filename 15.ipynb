{
 "cells": [
  {
   "cell_type": "code",
   "execution_count": 22,
   "id": "5ab01298-957c-431d-a79f-74e5f2a24c77",
   "metadata": {},
   "outputs": [],
   "source": [
    "#!pip install scipy"
   ]
  },
  {
   "cell_type": "code",
   "execution_count": 23,
   "id": "a06b82e8-ad81-4ee3-95b6-22ffc95889b0",
   "metadata": {},
   "outputs": [
    {
     "name": "stdout",
     "output_type": "stream",
     "text": [
      "Kết quả:  [ 3. -1.]\n"
     ]
    }
   ],
   "source": [
    "from scipy import linalg\n",
    "import numpy as np\n",
    "#Định nghĩa hệ phương trình tuyến tính\n",
    "A = np.array([[2, 1],[3,2]])\n",
    "b = np.array([5,7])\n",
    "#Giải hệ phương trình tuyến tính\n",
    "x = linalg.solve(A, b)\n",
    "print(\"Kết quả: \", x)"
   ]
  },
  {
   "cell_type": "code",
   "execution_count": 24,
   "id": "a8f62f05-2087-49cd-aef9-58749fa463a7",
   "metadata": {},
   "outputs": [
    {
     "name": "stdout",
     "output_type": "stream",
     "text": [
      "Tích phân f(x) từ 0 đến 1:  (0.33333333333333337, 3.700743415417189e-15)\n"
     ]
    }
   ],
   "source": [
    "#Tích tích phân của một hàm số\n",
    "#Định nghĩa f(x)=x^2\n",
    "from scipy import integrate\n",
    "def my_function(x):\n",
    "    return x**2;\n",
    "#Tính tích phân của f(x) từ 0 đến 1\n",
    "integral = integrate.quad(my_function,0, 1);\n",
    "print(\"Tích phân f(x) từ 0 đến 1: \", integral)"
   ]
  },
  {
   "cell_type": "code",
   "execution_count": null,
   "id": "62efbbdd-a42f-4b7d-9329-f45a75aab525",
   "metadata": {},
   "outputs": [],
   "source": [
    "from scipy import linalg\n",
    "import numpy as np\n",
    "#Tính giá trị riêng và vector riêng của một ma trận:\n",
    "A = np.array([[2,1], [3,2]])\n",
    "#Tính giá trị riêng và vector riêng của một ma trận:\n",
    "evals, evecs = linalg.eig(A)\n",
    "print(\"Giá trị riêng: \", evals)\n",
    "print(\""
   ]
  }
 ],
 "metadata": {
  "kernelspec": {
   "display_name": "Python 3 (ipykernel)",
   "language": "python",
   "name": "python3"
  },
  "language_info": {
   "codemirror_mode": {
    "name": "ipython",
    "version": 3
   },
   "file_extension": ".py",
   "mimetype": "text/x-python",
   "name": "python",
   "nbconvert_exporter": "python",
   "pygments_lexer": "ipython3",
   "version": "3.12.4"
  }
 },
 "nbformat": 4,
 "nbformat_minor": 5
}
