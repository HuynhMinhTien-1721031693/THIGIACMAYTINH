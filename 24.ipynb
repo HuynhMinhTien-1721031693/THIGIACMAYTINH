{
 "cells": [
  {
   "cell_type": "code",
   "execution_count": 1,
   "id": "6cd8bde3-230f-4148-8786-36fe93eb2ab5",
   "metadata": {},
   "outputs": [],
   "source": [
    "import cv2\n",
    "import time"
   ]
  },
  {
   "cell_type": "code",
   "execution_count": 2,
   "id": "c1196071-4252-4ac3-bcc6-a80cf33400b2",
   "metadata": {},
   "outputs": [],
   "source": [
    "#Đọc video từ file\n",
    "camera = cv2.VideoCapture(0)"
   ]
  },
  {
   "cell_type": "code",
   "execution_count": 3,
   "id": "13367e53-7627-421d-b5f5-2ed3e16548f1",
   "metadata": {},
   "outputs": [],
   "source": [
    "#Tạo cửa sổ để hiển thị\n",
    "cv2.namedWindow('Video Player', cv2.WINDOW_NORMAL)\n",
    "# \n",
    "interval = 20\n",
    "count = 0"
   ]
  },
  {
   "cell_type": "code",
   "execution_count": 4,
   "id": "5c02d2e7-2ff9-4b7d-ac68-ec21a4815274",
   "metadata": {},
   "outputs": [],
   "source": [
    "#Ghi text trên hình ảnh\n",
    "font = cv2.FONT_HERSHEY_SIMPLEX\n",
    "font_color = (255, 255, 255)\n",
    "font_scale = 1\n",
    "font_thicknes = 2"
   ]
  },
  {
   "cell_type": "code",
   "execution_count": null,
   "id": "360e17bc-4f9f-400b-92b3-2f577e7dc677",
   "metadata": {},
   "outputs": [],
   "source": [
    "#Hiển thị từng khung ảnh\n",
    "while True:\n",
    "    #Thời gian trước khi đọc\n",
    "    start_time = time.time()\n",
    "    #Đọc 1 frame\n",
    "    ret, frame = camera.read()\n",
    "    #Thoát khi không thể đọc được frame\n",
    "    if not ret:\n",
    "        break\n",
    "    #Tăng count + 1\n",
    "    count = count + 1\n",
    "    #Định kỳ lưu ảnh xuống\n",
    "    if(count%interval==0):\n",
    "        cv2.imwrite(f'E:/HuynhMinhTien/THIGIACMAYTINH/data_{count}.jpg', frame)\n",
    "        \n",
    "    #Thời gian trước khi đọc\n",
    "    end_time = time.time()    \n",
    "    # Tình FPS:\n",
    "    fps = 1/(end_time-start_time)\n",
    "    # Ghi số lượng fps\n",
    "    cv2.putText(frame, f'FPS: {fps:.2f}', (100, 100), font, font_scale, font_color , font_thicknes)\n",
    "    # Hiển thị\n",
    "    cv2.imshow('Video Player', frame)\n",
    "    if(cv2.waitKey(10)==ord('q')):\n",
    "        break\n",
    "\n",
    "#Hủy bỏ player\n",
    "camera.release()\n",
    "cv2.destroyAllWindows()"
   ]
  },
  {
   "cell_type": "code",
   "execution_count": null,
   "id": "5cb87d01-29a6-4a9f-aece-989b8c698a21",
   "metadata": {},
   "outputs": [],
   "source": []
  }
 ],
 "metadata": {
  "kernelspec": {
   "display_name": "Python 3 (ipykernel)",
   "language": "python",
   "name": "python3"
  },
  "language_info": {
   "codemirror_mode": {
    "name": "ipython",
    "version": 3
   },
   "file_extension": ".py",
   "mimetype": "text/x-python",
   "name": "python",
   "nbconvert_exporter": "python",
   "pygments_lexer": "ipython3",
   "version": "3.12.4"
  }
 },
 "nbformat": 4,
 "nbformat_minor": 5
}
